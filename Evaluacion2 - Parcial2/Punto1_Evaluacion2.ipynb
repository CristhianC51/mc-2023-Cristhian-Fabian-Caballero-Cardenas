{
  "cells": [
    {
      "cell_type": "code",
      "execution_count": 2,
      "metadata": {
        "colab": {
          "base_uri": "https://localhost:8080/"
        },
        "id": "aHKk0H3zs79N",
        "outputId": "b45bc61e-ed8e-4578-d9d5-f6dac5642666"
      },
      "outputs": [
        {
          "name": "stdout",
          "output_type": "stream",
          "text": [
            "Inversa de A: \n",
            "[[ 0.5    0.25   0.   ]\n",
            " [-2.75  -0.625  0.5  ]\n",
            " [-0.5    0.25  -0.   ]]\n"
          ]
        }
      ],
      "source": [
        "#Punto 1 - Evaluacion 2\n",
        "import numpy as np\n",
        "\n",
        "def inversa(A):\n",
        "\n",
        "  tamaño = np.shape(A)\n",
        "  n = tamaño[0]\n",
        "  identidad = np.identity(n)\n",
        "\n",
        "  AB = np.concatenate((A,identidad),axis=1)\n",
        "  AB0 = np.copy(AB)\n",
        "\n",
        "  tamaño = np.shape(AB)\n",
        "  n = tamaño[0]\n",
        "  m = tamaño[1]\n",
        "\n",
        "  for i in range(0,n-1,1):\n",
        "\n",
        "      columna = abs(AB[i:,i])\n",
        "      max = np.argmax(columna)\n",
        "      \n",
        "      if (max !=0):\n",
        "\n",
        "          temporal = np.copy(AB[i,:])\n",
        "          AB[i,:] = AB[max+i,:]\n",
        "          AB[max+i,:] = temporal\n",
        "  AB1 = np.copy(AB)\n",
        "\n",
        "  for i in range(0,n-1,1):\n",
        "      pivote = AB[i,i]\n",
        "      adelante = i+1\n",
        "      for k in range(adelante,n,1):\n",
        "          factor = AB[k,i]/pivote\n",
        "          AB[k,:] = AB[k,:] - AB[i,:]*factor\n",
        "  AB2 = np.copy(AB)\n",
        "\n",
        "  ultfila = n-1\n",
        "  ultcolumna = m-1\n",
        "  for i in range(ultfila,0-1,-1):\n",
        "      pivote = AB[i,i]\n",
        "      atras = i-1 \n",
        "      for k in range(atras,0-1,-1):\n",
        "          factor = AB[k,i]/pivote\n",
        "          AB[k,:] = AB[k,:] - AB[i,:]*factor\n",
        "      AB[i,:] = AB[i,:]/AB[i,i]\n",
        "\n",
        "  inversa = np.copy(AB[:,n:])\n",
        "  return inversa\n",
        "\n",
        "A = np.array([[1, 0, -1],\n",
        "              [2, 0, 2],\n",
        "              [8, 2, -3]], dtype=float)\n",
        "x = inversa(A)\n",
        "print('Inversa de A: ')\n",
        "print(x)"
      ]
    }
  ],
  "metadata": {
    "colab": {
      "provenance": []
    },
    "kernelspec": {
      "display_name": "Python 3",
      "name": "python3"
    },
    "language_info": {
      "name": "python"
    }
  },
  "nbformat": 4,
  "nbformat_minor": 0
}
