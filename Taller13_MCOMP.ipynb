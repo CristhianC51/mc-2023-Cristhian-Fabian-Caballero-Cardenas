{
  "nbformat": 4,
  "nbformat_minor": 0,
  "metadata": {
    "colab": {
      "provenance": [],
      "collapsed_sections": [
        "F2BgTdY3bWyc"
      ]
    },
    "kernelspec": {
      "name": "python3",
      "display_name": "Python 3"
    },
    "language_info": {
      "name": "python"
    }
  },
  "cells": [
    {
      "cell_type": "markdown",
      "source": [
        "##Cree un programa que selecciones dos vectores de longitud n (dada por el usuario al principio) y halle su producto escalar."
      ],
      "metadata": {
        "id": "F2BgTdY3bWyc"
      }
    },
    {
      "cell_type": "code",
      "execution_count": 2,
      "metadata": {
        "colab": {
          "base_uri": "https://localhost:8080/"
        },
        "id": "D8RivE_fW5FA",
        "outputId": "4aab71e6-bbca-4282-92a1-b2e87c509814"
      },
      "outputs": [
        {
          "output_type": "stream",
          "name": "stdout",
          "text": [
            "Hola!, dime la longitud del vector 1 y el vector 21\n",
            "Ingrese el valor  1  del vector 1\n",
            "2\n",
            "Vector 1:  [2]\n",
            "ඞ ඞ ඞ ඞ ඞ ඞ ඞ ඞ ඞ ඞ ඞ ඞ ඞ ඞ ඞ\n",
            "Ingrese el valor  1  del vector 2\n",
            "2\n",
            "Vector 2:  [2]\n",
            "ඞ ඞ ඞ ඞ ඞ ඞ ඞ ඞ ඞ ඞ ඞ ඞ ඞ ඞ ඞ\n",
            "Producto escalar:  4\n"
          ]
        }
      ],
      "source": [
        "import numpy as np\n",
        "vector1 = []\n",
        "vector2 = []\n",
        "\n",
        "tamaño = int(input(\"Hola!, dime la longitud del vector 1 y el vector 2\"))\n",
        "\n",
        "for i in range(tamaño):\n",
        "    print(\"Ingrese el valor \", i + 1, \" del vector 1\")\n",
        "    vector = int(input())\n",
        "    vector1.append(vector)\n",
        "\n",
        "print(\"ඞ ඞ ඞ ඞ ඞ ඞ ඞ ඞ ඞ ඞ ඞ ඞ ඞ ඞ ඞ\")\n",
        "print(\"Vector 1: \", vector1)\n",
        "\n",
        "for i in range(tamaño):\n",
        "    print(\"Ingrese el valor \", i + 1, \" del vector 2\")\n",
        "    vector = int(input())\n",
        "    vector2.append(vector)\n",
        "\n",
        "print(\"ඞ ඞ ඞ ඞ ඞ ඞ ඞ ඞ ඞ ඞ ඞ ඞ ඞ ඞ ඞ\")\n",
        "print(\"Vector 2: \", vector2)\n",
        "\n",
        "op = np.dot(vector1,vector2)\n",
        "print(\"Producto escalar: \", op)"
      ]
    },
    {
      "cell_type": "markdown",
      "source": [
        "##Cree un programa que solicite dos matrices A y B (las dimensiones de cada matriz deben ser indicadas por el usuario) y, de ser posible, realice las siguientes operaciones:\n",
        "##a) 3A\n",
        "##b) 4B\n",
        "##c) A + B\n",
        "##d) B × A"
      ],
      "metadata": {
        "id": "ajK8gLd3cb6a"
      }
    },
    {
      "cell_type": "code",
      "source": [
        "import numpy as np\n",
        "\n",
        "filas = int(input(\"Introduce el número de filas de la matriz A: \"))\n",
        "columnas = int(input(\"Introduce el número de columnas de la matriz A: \"))\n",
        "\n",
        "x = filas*columnas\n",
        "valores = list(map(int, input(f\"Introduce los {x} valores de la matriz A separados por un espacio:\").split()))\n",
        "matrizA = np.array(valores).reshape(filas,columnas)\n",
        "print(\"Matriz A\")\n",
        "print(matrizA)\n",
        "\n",
        "print(\"ඞ ඞ ඞ ඞ ඞ ඞ ඞ ඞ ඞ ඞ ඞ ඞ ඞ ඞ ඞ\")\n",
        "filas2 = int(input(\"Introduce el número de filas de la matriz B: \"))\n",
        "columnas2 = int(input(\"Introduce el número de columnas de la matriz B: \"))\n",
        "\n",
        "x2 = filas2*columnas2\n",
        "valores2 = list(map(int, input(f\"Introduce los {x2} valores de la matriz B separados por un espacio:\").split()))\n",
        "matrizB = np.array(valores2).reshape(filas2,columnas2)\n",
        "print(\"Matriz B\")\n",
        "print(matrizB)\n",
        "\n",
        "print(\"ඞ ඞ ඞ ඞ ඞ ඞ ඞ ඞ ඞ ඞ ඞ ඞ ඞ ඞ ඞ\")\n",
        "print(\"OPERACIONES\")\n",
        "print(\"3A: \\n\", 3*matrizA)\n",
        "print(\"ඞ ඞ ඞ ඞ ඞ ඞ ඞ ඞ ඞ ඞ ඞ ඞ ඞ ඞ ඞ\")\n",
        "print(\"4B: \\n\", 4*matrizB)\n",
        "print(\"ඞ ඞ ඞ ඞ ඞ ඞ ඞ ඞ ඞ ඞ ඞ ඞ ඞ ඞ ඞ\")\n",
        "if filas==filas2 and columnas==columnas2:\n",
        "    print(\"A+B: \\n\", matrizA + matrizB)\n",
        "    print(\"ඞ ඞ ඞ ඞ ඞ ඞ ඞ ඞ ඞ ඞ ඞ ඞ ඞ ඞ ඞ\")\n",
        "else:\n",
        "  print(\"A+B: La suma no se pudo realizar debido a que el numero de filas y columnas no coinciden.\")\n",
        "  print(\"ඞ ඞ ඞ ඞ ඞ ඞ ඞ ඞ ඞ ඞ ඞ ඞ ඞ ඞ ඞ\")\n",
        "\n",
        "if filas2==columnas and filas==columnas2:\n",
        "  print(\"BxA: \\n\", np.dot(matrizB,matrizA))\n",
        "  print(\"ඞ ඞ ඞ ඞ ඞ ඞ ඞ ඞ ඞ ඞ ඞ ඞ ඞ ඞ ඞ\")\n",
        "else:\n",
        "  print(\"BxA: La multiplicación no se pudo realizar debido a que el numero de filas y columnas no coinciden.\")\n",
        "  print(\"ඞ ඞ ඞ ඞ ඞ ඞ ඞ ඞ ඞ ඞ ඞ ඞ ඞ ඞ ඞ\")"
      ],
      "metadata": {
        "id": "87iPeFtFYSo0"
      },
      "execution_count": null,
      "outputs": []
    }
  ]
}